{
 "cells": [
  {
   "cell_type": "code",
   "execution_count": 2,
   "id": "d8e8ff5f",
   "metadata": {},
   "outputs": [],
   "source": [
    "times = [\n",
    "  1.3162181377410889,\n",
    "  0.5436799526214,\n",
    "  0.560425043106079,\n",
    "  0.650375843048095,\n",
    "  0.41159296035766,\n",
    "  0.376452922821044,\n",
    "  0.4467849731445312,\n",
    "  0.4478549957275390,\n",
    "  0.891005039215087,\n",
    "  0.843313217163085,\n",
    "  0.779284000396728,\n",
    "  0.615960121154785,\n",
    "  0.509211778640747,\n",
    "  0.512189865112304,\n",
    "  0.522258758544921,\n",
    "  0.485121965408325,\n",
    "  0.518922090530395,\n",
    "  0.489910125732421,\n",
    "  0.889451980590820,\n",
    "  0.540622711181640,\n",
    "  0.500818014144897,\n",
    "  0.545462846755981,\n",
    "  0.511601924896240,\n",
    "  0.490236043930053,\n",
    "  0.389544963836669,\n",
    "  0.47932314872741,\n",
    "  0.682322978973388,\n",
    "  0.4374909400939941,\n",
    "  0.526052951812744,\n",
    "  0.442256927490234,\n",
    "  0.662508010864257,\n",
    "  0.558757066726684,\n",
    "  0.979368209838867,\n",
    "  0.617108106613159,\n",
    "  0.71971487998962,\n",
    "  0.713073968887329,\n",
    "  0.885790109634399,\n",
    "  0.914871931076049,\n",
    "  0.629030942916870,\n",
    "  0.830937862396240,\n",
    "  0.63703322410583,\n",
    "  0.666986942291259,\n",
    "  0.726481914520263,\n",
    "  0.703270912170410,\n",
    "  0.851192951202392,\n",
    "  0.812014818191528,\n",
    "  0.804113149642944,\n",
    "  1.36811494827270,\n",
    "  0.7145049571990967,\n",
    "  0.5403931140899658\n",
    "]"
   ]
  },
  {
   "cell_type": "code",
   "execution_count": null,
   "id": "d7fe1b83",
   "metadata": {},
   "outputs": [
    {
     "name": "stdout",
     "output_type": "stream",
     "text": [
      "Mean time: 0.6538 seconds\n",
      "Median time: 0.6165 seconds\n",
      "Standard deviation: 0.2088 seconds\n"
     ]
    }
   ],
   "source": [
    "import numpy as np\n",
    "\n",
    "times = np.array(times)\n",
    "\n",
    "print(f\"Mean time: {np.mean(times):.4f} seconds\")\n",
    "print(f\"Median time: {np.median(times):.4f} seconds\")\n",
    "print(f\"Standard deviation: {np.std(times):.4f} seconds\")\n"
   ]
  },
  {
   "cell_type": "code",
   "execution_count": null,
   "id": "d6442a43",
   "metadata": {},
   "outputs": [],
   "source": []
  }
 ],
 "metadata": {
  "kernelspec": {
   "display_name": "Python 3",
   "language": "python",
   "name": "python3"
  },
  "language_info": {
   "codemirror_mode": {
    "name": "ipython",
    "version": 3
   },
   "file_extension": ".py",
   "mimetype": "text/x-python",
   "name": "python",
   "nbconvert_exporter": "python",
   "pygments_lexer": "ipython3",
   "version": "3.12.6"
  }
 },
 "nbformat": 4,
 "nbformat_minor": 5
}

{
 "cells": [
  {
   "cell_type": "code",
   "execution_count": 114,
   "metadata": {},
   "outputs": [],
   "source": [
    "import os\n",
    "import numpy as np\n",
    "import cv2 as cv\n",
    "import time\n",
    "from matplotlib import pyplot as plt\n",
    "import json\n",
    "\n",
    "\n",
    "TEMPLATES_PATH = 'templates/'\n",
    "IMAGES_PATH = 'dataset/'\n",
    "DATASET_JSON = 'dataset.json'\n",
    "\n",
    "# Grid search parameters\n",
    "MIN_MATCH_COUNTS = [3]\n",
    "MAXDIST = [0.5]\n",
    "DETECTORS = ['ORB']\n",
    "MATCHERS = ['BF']\n",
    "MATCHERS_PARAMS = {\n",
    "\t'FLANN': {\n",
    "\t\t'trees': [5,10,20],\n",
    "\t\t'checks': [50]\n",
    "\t},\n",
    "\t'BF': {\n",
    "\t\t'crossCheck': [False],\n",
    "\t}\n",
    "}\n"
   ]
  },
  {
   "cell_type": "markdown",
   "metadata": {},
   "source": [
    "# 🛠️ Utilities"
   ]
  },
  {
   "cell_type": "code",
   "execution_count": 115,
   "metadata": {},
   "outputs": [],
   "source": [
    "def get_RGB_from_BGR(img):\n",
    "\treturn cv.cvtColor(img, cv.COLOR_BGR2RGB)\n",
    "\n",
    "def get_tresh_from_path(img):\n",
    "    img = cv.imread(img, cv.IMREAD_GRAYSCALE)\n",
    "    _, img = cv.threshold(img, 128, 255, cv.THRESH_BINARY | cv.THRESH_OTSU)\n",
    "    return img"
   ]
  },
  {
   "cell_type": "code",
   "execution_count": 116,
   "metadata": {},
   "outputs": [],
   "source": [
    "def getKeypointDetectorAndNorm(name):\n",
    "    if name == \"SIFT\":\n",
    "        return cv.SIFT_create(), cv.NORM_L2\n",
    "    elif name == \"SURF\":\n",
    "        return cv.xfeatures2d.SURF_create(), cv.NORM_L2\n",
    "    elif name == \"ORB\":\n",
    "        return cv.ORB_create(), cv.NORM_HAMMING\n",
    "    elif name == \"BRISK\":\n",
    "        return cv.BRISK_create(), cv.NORM_HAMMING\n",
    "    elif name == \"AKAZE\":\n",
    "        return cv.AKAZE_create(), cv.NORM_HAMMING\n",
    "    else:\n",
    "        raise Exception(\"Unknown keypoint detector\")"
   ]
  },
  {
   "cell_type": "code",
   "execution_count": 117,
   "metadata": {},
   "outputs": [],
   "source": [
    "def getMatcher(name, params):\n",
    "\tif name == \"FLANN\":\n",
    "\t\tFLANN_INDEX_KDTREE = 1\n",
    "\t\tindex_params = dict(algorithm = FLANN_INDEX_KDTREE, trees = params['trees'])\n",
    "\t\tsearch_params = dict(checks = params['checks'])\t\n",
    "\t\treturn cv.FlannBasedMatcher(index_params, search_params)\n",
    "\telif name == \"BF\":\n",
    "\t\treturn cv.BFMatcher(params['norm'], params['crossCheck'])\n",
    "\telse:\n",
    "\t\traise Exception(\"Unknown matcher\")"
   ]
  },
  {
   "cell_type": "code",
   "execution_count": 118,
   "metadata": {},
   "outputs": [],
   "source": [
    "def center_crop(img, factor=0.97):\n",
    "\t# Cropping because many templates have angle brackets at the corners\n",
    "\t\n",
    "\theight, width = img.shape[:2]\n",
    "\t# Calculate new dimensions\n",
    "\tnew_height = int(height * 0.97)\n",
    "\tnew_width = int(width * 0.97)\n",
    "\n",
    "\t# Calculate top-left corner and bottom-right corner for cropping\n",
    "\tstart_x = (width - new_width) // 2\n",
    "\tstart_y = (height - new_height) // 2\n",
    "\tend_x = start_x + new_width\n",
    "\tend_y = start_y + new_height\n",
    "\n",
    "\t# Crop the image\n",
    "\treturn img[start_y:end_y, start_x:end_x]"
   ]
  },
  {
   "cell_type": "code",
   "execution_count": 119,
   "metadata": {},
   "outputs": [],
   "source": [
    "def get_draw(kp_t, kp_img, template, full_img, good):\n",
    "\tsrc_pts = np.float32([ kp_t[m.queryIdx].pt for m in good]).reshape(-1,1,2)\n",
    "\tdst_pts = np.float32([ kp_img[m.trainIdx].pt for m in good]).reshape(-1,1,2)\n",
    "\tM, mask = cv.findHomography(src_pts, dst_pts, cv.RANSAC,5.0)\n",
    "\tmatchesMask = mask.ravel().tolist()\n",
    "\ttemplate_img = cv.imread(template)\n",
    "\timg_img = cv.imread(full_img)\n",
    "\th,w = template_img.shape[:2]\n",
    "\tpts = np.float32([ [0,0],[0,h-1],[w-1,h-1],[w-1,0] ]).reshape(-1,1,2)\n",
    "\tdst = cv.perspectiveTransform(pts,M)\n",
    "\timg2 = cv.polylines(img_img,[np.int32(dst)],True,255,3, cv.LINE_AA)\n",
    "\tdraw_params = dict(matchColor = (0,255,0), # draw matches in green color\n",
    "\t\t\t\tsinglePointColor = None,\n",
    "\t\t\t\tmatchesMask = matchesMask, # draw only inliers\n",
    "\t\t\t\tflags = 2)\n",
    "\tmatch_img = cv.drawMatches(template_img,kp_t,img2,kp_img,good,None,**draw_params)\n",
    "\treturn match_img\n",
    "\n",
    "def draw_match(match_img):\n",
    "\tplt.imshow(get_RGB_from_BGR(match_img))"
   ]
  },
  {
   "cell_type": "code",
   "execution_count": 120,
   "metadata": {},
   "outputs": [],
   "source": [
    "def get_img_dicts(detector, treshold=True, scale=1):\n",
    "\timages = {}\n",
    "\t# Read dataset.json file\n",
    "\twith open(DATASET_JSON) as json_file:\n",
    "\t\tfor tp in json.load(json_file)['true_positives']:\n",
    "\t\t\timages[tp['image']] = {\n",
    "\t\t\t\t'name' : tp['image'],\n",
    "\t\t\t\t'templates' : tp['templates']\n",
    "\t\t\t}\n",
    "\n",
    "\tfor image in images:\n",
    "\t\tref_img = get_tresh_from_path(IMAGES_PATH + image) if treshold else cv.imread(IMAGES_PATH + image)\n",
    "\t\tif scale != 1:\n",
    "\t\t\tref_img = cv.resize(ref_img, (0,0), fx=scale, fy=scale)\n",
    "\t\tkp_image, des_image = detector.detectAndCompute(ref_img, None)\n",
    "\t\timages[image]['keypoints'] = kp_image\n",
    "\t\timages[image]['descriptors'] = des_image\n",
    "\t\n",
    "\treturn images\n",
    "\n",
    "def get_template_dicts(detector, treshold=True):\n",
    "\ttemplates = {}\n",
    "\t# Find all images in the templates folder\n",
    "\tfor path in os.listdir(TEMPLATES_PATH):\n",
    "\t\tif not path == '.DS_Store':\n",
    "\t\t\ttemplates[path] = {\n",
    "\t\t\t\t'name': path\n",
    "\t\t\t}\n",
    "\t\n",
    "\tfor template in templates:\n",
    "\t\ttemplate_img = get_tresh_from_path(TEMPLATES_PATH + template) if treshold else cv.imread(TEMPLATES_PATH + template)\n",
    "\t\ttemplate_img = center_crop(template_img)\n",
    "\t\tkp_template, des_template = detector.detectAndCompute(template_img, None)\n",
    "\t\ttemplates[template]['keypoints'] = kp_template\n",
    "\t\ttemplates[template]['descriptors'] = des_template\n",
    "\treturn templates\n",
    "\n",
    "def search_match(image, template, matcher, dist_max, min_match, save_draw=False, draw_on_found=False, verbose=False):\n",
    "\tkp_t, des_t = template['keypoints'], template['descriptors']\n",
    "\tkp_img, des_img = image['keypoints'], image['descriptors']\n",
    "\n",
    "\tshould_be_found = template['name'] in image['templates']\n",
    "\n",
    "\tgood = []\n",
    "\tif dist_max == -1:\n",
    "\t\tmatches = matcher.knnMatch(des_t,des_img,k=1)\n",
    "\t\tfor m in matches:\n",
    "\t\t\tif not m == ():\n",
    "\t\t\t\tgood.append(m)\n",
    "\telse:\n",
    "\t\tmatches = matcher.knnMatch(des_t,des_img,k=2)\n",
    "\t\tfor m,n in matches:\n",
    "\t\t\tif m.distance < dist_max*n.distance:\n",
    "\t\t\t\tgood.append(m)\n",
    "\n",
    "\tif len(good)>min_match:\n",
    "\t\toutcome = 'TP' if should_be_found else 'FP'\n",
    "\t\tif verbose:\n",
    "\t\t\tprint(f\"{outcome} found for {template['name']} on image {image['name']} with {len(good)} matches out of {min_match}\")\n",
    "\t\tif save_draw:\n",
    "\t\t\ttry:\n",
    "\t\t\t\tdraw = get_draw(kp_t, kp_img, TEMPLATES_PATH+template['name'], IMAGES_PATH+image['name'], good)\n",
    "\t\t\texcept:\n",
    "\t\t\t\tif verbose:\n",
    "\t\t\t\t\tprint(f\"[ERROR] Couldn't draw match for {template['name']} on image {image['name']} Skipping this draw\")\n",
    "\t\t\t\tdraw = None\n",
    "\t\t\tif draw_on_found:\n",
    "\t\t\t\tdraw_match(draw)\n",
    "\t\telse:\n",
    "\t\t\tdraw = None\n",
    "\t\treturn draw, outcome\n",
    "\telse:\n",
    "\t\toutcome = 'TN' if not should_be_found else 'FN'\n",
    "\t\tif verbose:\n",
    "\t\t\tprint(f\"{outcome} found for {template['name']} on image {image['name']} with {len(good)} matches out of {min_match}\")\n",
    "\t\treturn None, outcome"
   ]
  },
  {
   "cell_type": "code",
   "execution_count": 121,
   "metadata": {},
   "outputs": [],
   "source": [
    "def run_experiment(templates, detector, matcher, dist_max, min_match, verbose=False):\n",
    "\tresults = {\n",
    "\t\t'TP' : [],\n",
    "\t\t'FP' : [],\n",
    "\t\t'TN' : [],\n",
    "\t\t'FN' : []\n",
    "\t}\n",
    "\n",
    "\t#templates, images = get_dicts(detector)\n",
    "\timages = get_img_dicts(detector)\n",
    "\n",
    "\tfor image in images:\n",
    "\t\tfor template in templates:\n",
    "\t\t\tdraw, outcome = search_match(images[image], templates[template], matcher, dist_max, min_match, verbose=verbose)\n",
    "\t\t\tresults[outcome].append(\".\" if draw is None else draw)\n",
    "\n",
    "\tprint(f\"TP: {len(results['TP'])}, FP: {len(results['FP'])}, TN: {len(results['TN'])}, FN: {len(results['FN'])}\")\n",
    "\treturn results"
   ]
  },
  {
   "cell_type": "code",
   "execution_count": 122,
   "metadata": {},
   "outputs": [
    {
     "name": "stdout",
     "output_type": "stream",
     "text": [
      "\n",
      "=====================================\n",
      "Starting run with detector: ORB, matcher: BF, crossCheck: False, dist_max: 0.5, min_match: 3\n",
      "TP: 0, FP: 42, TN: 63769, FN: 13\n",
      "Time taken: 8.467189073562622 seconds\n"
     ]
    }
   ],
   "source": [
    "# Perform grid search\n",
    "for detector_name in DETECTORS:\n",
    "\tdetector, norm = getKeypointDetectorAndNorm(detector_name)\n",
    "\ttemplates = get_template_dicts(detector)\n",
    "\tfor matcher_name in MATCHERS:\n",
    "\t\tif matcher_name == 'BF':\n",
    "\t\t\tfor crossCheck in MATCHERS_PARAMS[matcher_name]['crossCheck']:\n",
    "\t\t\t\tmatcher = getMatcher(matcher_name, {'norm': norm, 'crossCheck': crossCheck})\n",
    "\t\t\t\tMAXDIST_ITER = [-1] if crossCheck else MAXDIST\n",
    "\t\t\t\tfor dist_max in MAXDIST_ITER:\n",
    "\t\t\t\t\tfor min_match in MIN_MATCH_COUNTS:\n",
    "\t\t\t\t\t\tprint(\"\\n=====================================\")\n",
    "\t\t\t\t\t\tprint(f\"Starting run with detector: {detector_name}, matcher: {matcher_name}, crossCheck: {crossCheck}, dist_max: {dist_max}, min_match: {min_match}\")\n",
    "\t\t\t\t\t\tstart_time = time.time()\n",
    "\t\t\t\t\t\ttry:\n",
    "\t\t\t\t\t\t\tresults = run_experiment(templates, detector, matcher, dist_max, min_match)\n",
    "\t\t\t\t\t\texcept Exception as e:\n",
    "\t\t\t\t\t\t\tprint(f\"[ERROR] Couldn't run experiment -> {e}\")\n",
    "\t\t\t\t\t\tend_time = time.time()\n",
    "\t\t\t\t\t\tprint(f\"Time taken: {end_time - start_time} seconds\")\n",
    "\t\telif matcher_name == 'FLANN':\n",
    "\t\t\tfor trees in MATCHERS_PARAMS[matcher_name]['trees']:\n",
    "\t\t\t\tfor checks in MATCHERS_PARAMS[matcher_name]['checks']:\n",
    "\t\t\t\t\t\tmatcher = getMatcher(matcher_name, {'trees': trees, 'checks': checks})\n",
    "\t\t\t\t\t\tfor dist_max in MAXDIST:\n",
    "\t\t\t\t\t\t\tfor min_match in MIN_MATCH_COUNTS:\n",
    "\t\t\t\t\t\t\t\tprint(\"\\n=====================================\")\n",
    "\t\t\t\t\t\t\t\tprint(f\"Starting run with detector: {detector_name}, matcher: {matcher_name}, trees: {trees}, checks: {checks}, dist_max: {dist_max}, min_match: {min_match}\")\n",
    "\t\t\t\t\t\t\t\tstart_time = time.time()\n",
    "\t\t\t\t\t\t\t\ttry:\n",
    "\t\t\t\t\t\t\t\t\trun_experiment(templates, detector, matcher, dist_max, min_match)\n",
    "\t\t\t\t\t\t\t\texcept Exception as e:\n",
    "\t\t\t\t\t\t\t\t\tprint(f\"[ERROR] Couldn't run experiment -> {e}\")\n",
    "\t\t\t\t\t\t\t\tend_time = time.time()\n",
    "\t\t\t\t\t\t\t\tprint(f\"Time taken: {end_time - start_time} seconds\")\n",
    "\t\telse:\n",
    "\t\t\traise Exception(\"Unknown matcher\")\n",
    "\t\t\t"
   ]
  },
  {
   "cell_type": "code",
   "execution_count": 123,
   "metadata": {},
   "outputs": [],
   "source": [
    "# to_draw = [ # image , template\n",
    "#     [\"test_00000.jpg\", \"ISO7000_02382.png\"], # FP,\n",
    "#     [\"test_00000.jpg\",\"ISO7000_03063.png\"], # FP,\n",
    "#     [\"test_00000.jpg\",\"GHS_00012.png\"], #TP\n",
    "#     [\"test_00007.jpeg\", \"Recycle_00042.png\"], # TP,\n",
    "#     [\"test_00007.jpeg\", \"ISO7000_02678.png\"], # FP,\n",
    "# ]\n",
    "\n",
    "to_draw = [\n",
    "    [\"test_00007.jpeg\",\"ISO7000_04181.png\"]\n",
    "]\n",
    "\n",
    "templates = get_template_dicts(detector)\n",
    "images = get_img_dicts(detector)\n"
   ]
  },
  {
   "cell_type": "code",
   "execution_count": 124,
   "metadata": {},
   "outputs": [
    {
     "name": "stdout",
     "output_type": "stream",
     "text": [
      "Top 20 templates by number of keypoints:\n",
      "ISO7000_03938.png: 276 keypoints\n",
      "ISO7000_02123.png: 228 keypoints\n",
      "ISO7000_05281.png: 223 keypoints\n",
      "ISO7000_01458.png: 222 keypoints\n",
      "GHS_00020.png: 220 keypoints\n",
      "ISO7000_02894.png: 218 keypoints\n",
      "ISO7000_02616.png: 218 keypoints\n",
      "ISO7000_00908.png: 217 keypoints\n",
      "ISO7000_04856.png: 215 keypoints\n",
      "ISO7010_E025.png: 214 keypoints\n",
      "ISO14617_00451.png: 208 keypoints\n",
      "ISO7000_05142.png: 206 keypoints\n",
      "ISO7000_03472.png: 205 keypoints\n",
      "ISO7000_00150.png: 205 keypoints\n",
      "ISO14617_00508.png: 205 keypoints\n",
      "ISO7000_02308.png: 205 keypoints\n",
      "ISO14617_01169.png: 205 keypoints\n",
      "ISO7000_04110.png: 205 keypoints\n",
      "ISO14617_00320.png: 203 keypoints\n",
      "ISO7000_04613.png: 202 keypoints\n"
     ]
    }
   ],
   "source": [
    "# sort templates by the number of keypoints descending then print the top 20\n",
    "sorted_templates = sorted(templates.items(), key=lambda x: len(x[1]['keypoints']), reverse=True)\n",
    "print(\"Top 20 templates by number of keypoints:\")\n",
    "for i in range(20):\n",
    "\tprint(f\"{sorted_templates[i][0]}: {len(sorted_templates[i][1]['keypoints'])} keypoints\")\n",
    "\t\n"
   ]
  },
  {
   "cell_type": "code",
   "execution_count": 125,
   "metadata": {},
   "outputs": [
    {
     "data": {
      "text/plain": [
       "{'whiskers': [<matplotlib.lines.Line2D at 0x282472270>,\n",
       "  <matplotlib.lines.Line2D at 0x2824700b0>],\n",
       " 'caps': [<matplotlib.lines.Line2D at 0x282471ca0>,\n",
       "  <matplotlib.lines.Line2D at 0x282471e80>],\n",
       " 'boxes': [<matplotlib.lines.Line2D at 0x280d2ef30>],\n",
       " 'medians': [<matplotlib.lines.Line2D at 0x282472180>],\n",
       " 'fliers': [<matplotlib.lines.Line2D at 0x282473140>],\n",
       " 'means': []}"
      ]
     },
     "execution_count": 125,
     "metadata": {},
     "output_type": "execute_result"
    },
    {
     "data": {
      "image/png": "[encoded data removed]",
      "text/plain": [
       "<Figure size 640x480 with 1 Axes>"
      ]
     },
     "metadata": {},
     "output_type": "display_data"
    }
   ],
   "source": [
    "plt.boxplot([len(templates[template]['keypoints']) for template in templates])"
   ]
  },
  {
   "cell_type": "code",
   "execution_count": 128,
   "metadata": {},
   "outputs": [
    {
     "data": {
      "text/plain": [
       "(array([1.142e+03, 2.930e+02, 2.040e+02, 1.910e+02, 1.460e+02, 2.170e+02,\n",
       "        2.430e+02, 2.260e+02, 1.300e+02, 2.220e+02, 2.000e+02, 1.970e+02,\n",
       "        1.350e+02, 2.110e+02, 2.090e+02, 1.980e+02, 1.280e+02, 1.920e+02,\n",
       "        2.070e+02, 1.850e+02, 1.320e+02, 2.010e+02, 1.980e+02, 1.530e+02,\n",
       "        1.120e+02, 1.600e+02, 1.720e+02, 1.480e+02, 1.520e+02, 7.800e+01,\n",
       "        1.190e+02, 9.900e+01, 1.220e+02, 7.500e+01, 9.400e+01, 9.700e+01,\n",
       "        8.200e+01, 6.400e+01, 8.700e+01, 7.600e+01, 5.500e+01, 3.800e+01,\n",
       "        7.600e+01, 5.100e+01, 5.600e+01, 2.800e+01, 5.400e+01, 2.900e+01,\n",
       "        3.200e+01, 1.700e+01, 2.700e+01, 2.500e+01, 1.600e+01, 2.200e+01,\n",
       "        1.100e+01, 2.000e+01, 1.100e+01, 9.000e+00, 1.500e+01, 1.000e+01,\n",
       "        4.000e+00, 1.300e+01, 5.000e+00, 1.100e+01, 4.000e+00, 4.000e+00,\n",
       "        1.000e+00, 4.000e+00, 2.000e+00, 5.000e+00, 1.000e+00, 3.000e+00,\n",
       "        2.000e+00, 2.000e+00, 7.000e+00, 1.000e+00, 0.000e+00, 2.000e+00,\n",
       "        3.000e+00, 1.000e+00, 2.000e+00, 0.000e+00, 1.000e+00, 0.000e+00,\n",
       "        0.000e+00, 0.000e+00, 0.000e+00, 0.000e+00, 0.000e+00, 0.000e+00,\n",
       "        0.000e+00, 0.000e+00, 0.000e+00, 0.000e+00, 0.000e+00, 0.000e+00,\n",
       "        0.000e+00, 0.000e+00, 0.000e+00, 1.000e+00]),\n",
       " array([  0.  ,   2.76,   5.52,   8.28,  11.04,  13.8 ,  16.56,  19.32,\n",
       "         22.08,  24.84,  27.6 ,  30.36,  33.12,  35.88,  38.64,  41.4 ,\n",
       "         44.16,  46.92,  49.68,  52.44,  55.2 ,  57.96,  60.72,  63.48,\n",
       "         66.24,  69.  ,  71.76,  74.52,  77.28,  80.04,  82.8 ,  85.56,\n",
       "         88.32,  91.08,  93.84,  96.6 ,  99.36, 102.12, 104.88, 107.64,\n",
       "        110.4 , 113.16, 115.92, 118.68, 121.44, 124.2 , 126.96, 129.72,\n",
       "        132.48, 135.24, 138.  , 140.76, 143.52, 146.28, 149.04, 151.8 ,\n",
       "        154.56, 157.32, 160.08, 162.84, 165.6 , 168.36, 171.12, 173.88,\n",
       "        176.64, 179.4 , 182.16, 184.92, 187.68, 190.44, 193.2 , 195.96,\n",
       "        198.72, 201.48, 204.24, 207.  , 209.76, 212.52, 215.28, 218.04,\n",
       "        220.8 , 223.56, 226.32, 229.08, 231.84, 234.6 , 237.36, 240.12,\n",
       "        242.88, 245.64, 248.4 , 251.16, 253.92, 256.68, 259.44, 262.2 ,\n",
       "        264.96, 267.72, 270.48, 273.24, 276.  ]),\n",
       " <BarContainer object of 100 artists>)"
      ]
     },
     "execution_count": 128,
     "metadata": {},
     "output_type": "execute_result"
    },
    {
     "data": {
      "image/png": "[encoded data removed]",
      "text/plain": [
       "<Figure size 640x480 with 1 Axes>"
      ]
     },
     "metadata": {},
     "output_type": "display_data"
    }
   ],
   "source": [
    "plt.hist([len(templates[template]['keypoints']) for template in templates], bins=100)"
   ]
  },
  {
   "cell_type": "code",
   "execution_count": 127,
   "metadata": {},
   "outputs": [
    {
     "data": {
      "text/plain": [
       "{'whiskers': [<matplotlib.lines.Line2D at 0x28214b620>,\n",
       "  <matplotlib.lines.Line2D at 0x282149460>],\n",
       " 'caps': [<matplotlib.lines.Line2D at 0x2821484d0>,\n",
       "  <matplotlib.lines.Line2D at 0x282148050>],\n",
       " 'boxes': [<matplotlib.lines.Line2D at 0x285572d50>],\n",
       " 'medians': [<matplotlib.lines.Line2D at 0x282149d00>],\n",
       " 'fliers': [<matplotlib.lines.Line2D at 0x28214a180>],\n",
       " 'means': []}"
      ]
     },
     "execution_count": 127,
     "metadata": {},
     "output_type": "execute_result"
    },
    {
     "data": {
      "image/png": "[encoded data removed]",
      "text/plain": [
       "<Figure size 640x480 with 1 Axes>"
      ]
     },
     "metadata": {},
     "output_type": "display_data"
    }
   ],
   "source": [
    "responses = [kp.response for kp in templates['ISO7000_04181.png']['keypoints']]\n",
    "plt.boxplot(responses)"
   ]
  },
  {
   "cell_type": "code",
   "execution_count": null,
   "metadata": {},
   "outputs": [],
   "source": []
  }
 ],
 "metadata": {
  "kernelspec": {
   "display_name": "Python 3",
   "language": "python",
   "name": "python3"
  },
  "language_info": {
   "codemirror_mode": {
    "name": "ipython",
    "version": 3
   },
   "file_extension": ".py",
   "mimetype": "text/x-python",
   "name": "python",
   "nbconvert_exporter": "python",
   "pygments_lexer": "ipython3",
   "version": "3.12.6"
  }
 },
 "nbformat": 4,
 "nbformat_minor": 2
}
